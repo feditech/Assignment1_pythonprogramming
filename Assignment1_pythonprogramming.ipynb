{
 "cells": [
  {
   "cell_type": "markdown",
   "metadata": {},
   "source": [
    "# Topic: print()"
   ]
  },
  {
   "cell_type": "markdown",
   "metadata": {},
   "source": [
    "1) Using the python print function print any string value, integer value, boolean value, float value in single print command"
   ]
  },
  {
   "cell_type": "code",
   "execution_count": 1,
   "metadata": {},
   "outputs": [
    {
     "name": "stdout",
     "output_type": "stream",
     "text": [
      "hello 12 True 12.2\n"
     ]
    }
   ],
   "source": [
    "# type your code here\n",
    "print(\"hello\",12,True,12.2)"
   ]
  },
  {
   "cell_type": "markdown",
   "metadata": {},
   "source": [
    "2) Using the python print function print hyphon(-) separated any string value, integer value, boolean value, float value in single print command"
   ]
  },
  {
   "cell_type": "code",
   "execution_count": 2,
   "metadata": {},
   "outputs": [
    {
     "name": "stdout",
     "output_type": "stream",
     "text": [
      "hello - 12 - True - 12.2\n"
     ]
    }
   ],
   "source": [
    "# type your code here\n",
    "print(\"hello\",12,True,12.2 ,sep=\" - \")"
   ]
  },
  {
   "cell_type": "markdown",
   "metadata": {},
   "source": [
    "3) Using the python print function print any string value, integer value, boolean value, float value in separate print command.\n",
    "But every value must be space separated and in single line "
   ]
  },
  {
   "cell_type": "code",
   "execution_count": 3,
   "metadata": {},
   "outputs": [
    {
     "name": "stdout",
     "output_type": "stream",
     "text": [
      "hello 12 False 12.2\n"
     ]
    }
   ],
   "source": [
    "# type your code here\n",
    "print(\"hello\" ,end=\" \")\n",
    "print(12 , end=\" \")\n",
    "print(False, end=\" \")\n",
    "print(12.2 )\n"
   ]
  },
  {
   "cell_type": "markdown",
   "metadata": {},
   "source": [
    "4) Can a python print function take no value to print???"
   ]
  },
  {
   "cell_type": "code",
   "execution_count": 5,
   "metadata": {},
   "outputs": [
    {
     "name": "stdout",
     "output_type": "stream",
     "text": [
      "\n"
     ]
    }
   ],
   "source": [
    "# type your answer here\n",
    "#yes\n",
    "print()\n"
   ]
  },
  {
   "cell_type": "markdown",
   "metadata": {},
   "source": [
    "# TOPIC :Variables "
   ]
  },
  {
   "cell_type": "markdown",
   "metadata": {},
   "source": [
    "5) One of my friends name is Mr. Ahmed. He is 30 years old.  He is a lawer by profession. He has done his bachelors in law in the year 2005. He is working with a reputable law firm 'The Himalya Associates' in Karachi since 2015.\n",
    "He is a handsome lawer with height of 5.10 feets and weight 70600g. His monthly income is Rs. 200k PKR.\n",
    "\n",
    "Note: Create variables from above text and also assign values from the text.  "
   ]
  },
  {
   "cell_type": "code",
   "execution_count": 31,
   "metadata": {},
   "outputs": [],
   "source": [
    "#type your code here\n",
    "name=\"Mr. Ahmed\"\n",
    "age=30\n",
    "profession= \"lawyer\"\n",
    "qualification= \"bachelor in law\"\n",
    "graduationYear=2005\n",
    "company='The Himalya Associates'\n",
    "height = \"5.10feets\"\n",
    "weight=70600\n",
    "monthlyIncome= 200000\n"
   ]
  },
  {
   "cell_type": "markdown",
   "metadata": {},
   "source": [
    "6)How many years has been to Mr. Ahmed after his bachelors degree? Create a variable that hold current year value and then subtract it from his passout year"
   ]
  },
  {
   "cell_type": "code",
   "execution_count": 7,
   "metadata": {},
   "outputs": [
    {
     "name": "stdout",
     "output_type": "stream",
     "text": [
      "19\n"
     ]
    }
   ],
   "source": [
    "#type your code here \n",
    "currentYear = 2024\n",
    "yearSinceGraduation = currentYear - graduationYear\n",
    "print(yearSinceGraduation)"
   ]
  },
  {
   "cell_type": "markdown",
   "metadata": {},
   "source": [
    "7) How many years has Mr. Ahmed been working with law firm 'The Himalya Associates'. Create necesary variables and print the correct number of years in working in the firm"
   ]
  },
  {
   "cell_type": "code",
   "execution_count": 9,
   "metadata": {},
   "outputs": [
    {
     "name": "stdout",
     "output_type": "stream",
     "text": [
      "9\n"
     ]
    }
   ],
   "source": [
    "#type your code here \n",
    "experience = currentYear - 2015\n",
    "print(experience)"
   ]
  },
  {
   "cell_type": "markdown",
   "metadata": {},
   "source": [
    "8)Convert the monthly income of Mr. Ahmed in dollars.  Create necesary variables and print the income in dollars."
   ]
  },
  {
   "cell_type": "code",
   "execution_count": 29,
   "metadata": {},
   "outputs": [
    {
     "name": "stdout",
     "output_type": "stream",
     "text": [
      "Salary in PKR 200000\n",
      "Salary in $ 719.11   \n",
      "\n"
     ]
    }
   ],
   "source": [
    "#type your code here \n",
    "dollarRate = 278.12\n",
    "salaryInDollars = monthlyIncome / dollarRate\n",
    "print(f\"\"\"Salary in PKR {monthlyIncome}\n",
    "Salary in $ {round(salaryInDollars,2)}   \n",
    "\"\"\")"
   ]
  },
  {
   "cell_type": "markdown",
   "metadata": {},
   "source": [
    "9) Check if the income in dollars is a float or integer value. if it is float, re-write the code so that income gets converted in integer. print the income in integer type value"
   ]
  },
  {
   "cell_type": "code",
   "execution_count": 30,
   "metadata": {},
   "outputs": [
    {
     "name": "stdout",
     "output_type": "stream",
     "text": [
      "<class 'float'>\n",
      "Salary in PKR 200000\n",
      "Salary in $ 719   \n",
      "\n"
     ]
    }
   ],
   "source": [
    "#type your code here \n",
    "print(type(salaryInDollars))\n",
    "salaryInDollars = int(monthlyIncome / dollarRate)\n",
    "print(f\"\"\"Salary in PKR {monthlyIncome}\n",
    "Salary in $ {round(salaryInDollars,2)}   \n",
    "\"\"\")"
   ]
  },
  {
   "cell_type": "raw",
   "metadata": {},
   "source": [
    "10) Print the type of Mr. Ahmed's weight. Convert the weight of Mr. Ahmed in kg so that weight must be a integer value. "
   ]
  },
  {
   "cell_type": "code",
   "execution_count": 33,
   "metadata": {},
   "outputs": [
    {
     "name": "stdout",
     "output_type": "stream",
     "text": [
      "<class 'int'>\n",
      "70\n"
     ]
    }
   ],
   "source": [
    "#type your code here \n",
    "print(type(weight))\n",
    "weightInKg = int(weight / 1000)\n",
    "print(weightInKg)"
   ]
  },
  {
   "cell_type": "markdown",
   "metadata": {},
   "source": [
    "print the year of birth of Mr. Ahmed."
   ]
  },
  {
   "cell_type": "code",
   "execution_count": 35,
   "metadata": {},
   "outputs": [
    {
     "name": "stdout",
     "output_type": "stream",
     "text": [
      "birth year ===> 1994\n"
     ]
    }
   ],
   "source": [
    "#type your code here\n",
    "birthYear = currentYear - 30\n",
    "print(\"birth year ===> \" + str(birthYear))"
   ]
  },
  {
   "cell_type": "markdown",
   "metadata": {},
   "source": [
    "12) Can Rs. 100 be divided equally among 6 students? \n",
    "HINT: % operator"
   ]
  },
  {
   "cell_type": "code",
   "execution_count": 37,
   "metadata": {},
   "outputs": [
    {
     "data": {
      "text/plain": [
       "4"
      ]
     },
     "execution_count": 37,
     "metadata": {},
     "output_type": "execute_result"
    }
   ],
   "source": [
    "#type your code here\n",
    "100 % 6\n",
    "#no"
   ]
  },
  {
   "cell_type": "markdown",
   "metadata": {},
   "source": [
    "# Topic: User input"
   ]
  },
  {
   "cell_type": "markdown",
   "metadata": {},
   "source": [
    "13) Take students detail as user input on console. Like \n",
    "name \n",
    "father name \n",
    "contact\n",
    "email\n",
    "Course\n",
    "Address\n",
    "Days \n",
    "Timings \n",
    "And print a formatted id card of student \n",
    "\n",
    "\n",
    "                                 Saylani Mass IT Training Program\n",
    "                                 _________________________________\n",
    "                                         Bahdurabad Campus (HO)\n",
    "                    Student Name: Abdullah Khan\n",
    "                    Father Name : Amanullah Khan\n",
    "                    Course      : Data Science and Artificial Intelligence \n",
    "                    Days        : Monday & Thursday \n",
    "                    Timings     : 7pm - 10pm\n",
    "                    Email       : abdullah_khan@gmail.com\n",
    "                    Contact     : 1234567890\n",
    "                    Address     : Flat 201, Roha Arcade, CA\n",
    "                    \n",
    "                    \n",
    "                    Saylani Welfare International Trust Head Office (Bahadurabad Karachi)\n",
    "                    \n",
    "                    \n",
    "                    \n",
    "                    \n",
    "                    "
   ]
  },
  {
   "cell_type": "code",
   "execution_count": 38,
   "metadata": {},
   "outputs": [
    {
     "name": "stdin",
     "output_type": "stream",
     "text": [
      "Enter Student Name: Fahad\n",
      "Enter Father Name: Shahzad\n",
      "Enter Course Name: Python Programming\n",
      "Enter Days: Tues & Thurs\n",
      "Enter Timings: 7pm - 9pm\n",
      "Enter Email: fahad@gmail.com\n",
      "Enter Contact: 12341234\n",
      "Enter Address: Landhi 2\n"
     ]
    },
    {
     "name": "stdout",
     "output_type": "stream",
     "text": [
      "\n",
      "                         Saylani Mass IT Training Program\n",
      "                         _________________________________\n",
      "                                 Bahdurabad Campus (HO)\n",
      "            Student Name: Fahad\n",
      "            Father Name : Shahzad\n",
      "            Course      : Python Programming\n",
      "            Days        : Tues & Thurs\n",
      "            Timings     : 7pm - 9pm\n",
      "            Email       : fahad@gmail.com\n",
      "            Contact     : 12341234\n",
      "            Address     : Landhi 2\n",
      "            \n",
      "            \n",
      "            Saylani Welfare International Trust Head Office (Bahadurabad Karachi)\n",
      "\n"
     ]
    }
   ],
   "source": [
    "stdName = input(\"Enter Student Name:\")\n",
    "fatherName = input(\"Enter Father Name:\")\n",
    "course = input(\"Enter Course Name:\")\n",
    "days =  input(\"Enter Days:\")\n",
    "timings = input(\"Enter Timings:\")\n",
    "email = input(\"Enter Email:\")\n",
    "contact = input(\"Enter Contact:\")\n",
    "address= input(\"Enter Address:\")\n",
    "\n",
    "print(f\"\"\"\n",
    "                         Saylani Mass IT Training Program\n",
    "                         _________________________________\n",
    "                                 Bahdurabad Campus (HO)\n",
    "            Student Name: {stdName}\n",
    "            Father Name : {fatherName}\n",
    "            Course      : {course}\n",
    "            Days        : {days}\n",
    "            Timings     : {timings}\n",
    "            Email       : {email}\n",
    "            Contact     : {contact}\n",
    "            Address     : {address}\n",
    "            \n",
    "            \n",
    "            Saylani Welfare International Trust Head Office (Bahadurabad Karachi)\n",
    "\"\"\")"
   ]
  },
  {
   "cell_type": "markdown",
   "metadata": {},
   "source": [
    "# Topic : Operators and Expression with ambiguity"
   ]
  },
  {
   "cell_type": "raw",
   "metadata": {},
   "source": [
    "14 ) What is the output of print(2 * 3 ** 3 * 4)\n",
    "\n",
    "a) 216\n",
    "b )864"
   ]
  },
  {
   "cell_type": "code",
   "execution_count": 39,
   "metadata": {},
   "outputs": [
    {
     "name": "stdout",
     "output_type": "stream",
     "text": [
      "216\n"
     ]
    }
   ],
   "source": [
    "print(2 * 3 ** 3 * 4)"
   ]
  },
  {
   "cell_type": "raw",
   "metadata": {},
   "source": [
    "15 ) What is the output of the expression  print(-18 // 4)\n",
    "a) -4\n",
    "b)  4\n",
    "c) -5\n",
    "d)  5 \n",
    " "
   ]
  },
  {
   "cell_type": "code",
   "execution_count": 42,
   "metadata": {},
   "outputs": [
    {
     "name": "stdout",
     "output_type": "stream",
     "text": [
      "-5\n"
     ]
    }
   ],
   "source": [
    "print(-18 // 4)"
   ]
  },
  {
   "cell_type": "raw",
   "metadata": {},
   "source": [
    "16) \n",
    "x = 6\n",
    "y = 2\n",
    "print(x ** y)\n",
    "print(x // y)\n",
    "\n",
    "\n",
    "a) 66\n",
    "   0\n",
    "    \n",
    "b) 36\n",
    "   0\n",
    "    \n",
    "c) 66\n",
    "    3\n",
    "    \n",
    "d)  36\n",
    "    3"
   ]
  },
  {
   "cell_type": "code",
   "execution_count": 43,
   "metadata": {},
   "outputs": [
    {
     "name": "stdout",
     "output_type": "stream",
     "text": [
      "36\n",
      "3\n"
     ]
    }
   ],
   "source": [
    "x = 6\n",
    "y = 2\n",
    "print(x ** y)\n",
    "print(x // y)"
   ]
  },
  {
   "cell_type": "raw",
   "metadata": {},
   "source": [
    "17)\n",
    "What is the output of print(10 - 4 * 2)\n",
    "\n",
    " a) 2\n",
    " \n",
    " \n",
    " b) 12"
   ]
  },
  {
   "cell_type": "code",
   "execution_count": 44,
   "metadata": {},
   "outputs": [
    {
     "name": "stdout",
     "output_type": "stream",
     "text": [
      "2\n"
     ]
    }
   ],
   "source": [
    "print(10 - 4 * 2)"
   ]
  },
  {
   "cell_type": "raw",
   "metadata": {},
   "source": [
    "18 ) What is the output of print(2%6)\n",
    "\n",
    " a) ValueError\n",
    " b) 0.33\n",
    " c) 2"
   ]
  },
  {
   "cell_type": "code",
   "execution_count": 45,
   "metadata": {},
   "outputs": [
    {
     "name": "stdout",
     "output_type": "stream",
     "text": [
      "2\n"
     ]
    }
   ],
   "source": [
    "print(2%6)"
   ]
  },
  {
   "cell_type": "raw",
   "metadata": {},
   "source": [
    "19) What is the value of the following Python Expression\n",
    "\n",
    "  print(36 / 4)\n",
    "\n",
    " a) 9.0\n",
    " b) 9"
   ]
  },
  {
   "cell_type": "code",
   "execution_count": 48,
   "metadata": {},
   "outputs": [
    {
     "name": "stdout",
     "output_type": "stream",
     "text": [
      "9.0\n"
     ]
    }
   ],
   "source": [
    "print(36 / 4)\n"
   ]
  },
  {
   "cell_type": "raw",
   "metadata": {},
   "source": [
    "20 ) In the Python statement x = a + 5 - b:\n",
    "\n",
    "a and b are ________\n",
    "a + 5 - b is ________\n",
    "\n",
    "\n",
    "a) operators, a statement\n",
    "\n",
    "\n",
    "b) operands, an expression\n",
    "\n",
    "c) terms, a group\n",
    "\n",
    "\n",
    "d) operands, an equation"
   ]
  },
  {
   "cell_type": "code",
   "execution_count": null,
   "metadata": {},
   "outputs": [],
   "source": [
    "b) operands, an expression"
   ]
  },
  {
   "cell_type": "raw",
   "metadata": {},
   "source": [
    "21) Should you use the == operator to determine whether objects of type float are equal?\n",
    "\n",
    "\n",
    "Sure! Go for it.\n",
    "\n",
    "\n",
    "Nope, not a good idea."
   ]
  },
  {
   "cell_type": "markdown",
   "metadata": {},
   "source": [
    "Nope, not a good idea."
   ]
  },
  {
   "cell_type": "raw",
   "metadata": {},
   "source": [
    "22 ) What is the value of the expression 1 + 2 ** 3 * 4?\n",
    "\n",
    "a) 33\n",
    "\n",
    "\n",
    "b) 36\n",
    "\n",
    "\n",
    "c) 108\n",
    "\n",
    "\n",
    "d) 4097"
   ]
  },
  {
   "cell_type": "code",
   "execution_count": 51,
   "metadata": {},
   "outputs": [
    {
     "data": {
      "text/plain": [
       "33"
      ]
     },
     "execution_count": 51,
     "metadata": {},
     "output_type": "execute_result"
    }
   ],
   "source": [
    " 1 + 2 ** 3 * 4"
   ]
  }
 ],
 "metadata": {
  "kernelspec": {
   "display_name": "Python 3 (ipykernel)",
   "language": "python",
   "name": "python3"
  },
  "language_info": {
   "codemirror_mode": {
    "name": "ipython",
    "version": 3
   },
   "file_extension": ".py",
   "mimetype": "text/x-python",
   "name": "python",
   "nbconvert_exporter": "python",
   "pygments_lexer": "ipython3",
   "version": "3.11.7"
  }
 },
 "nbformat": 4,
 "nbformat_minor": 4
}
